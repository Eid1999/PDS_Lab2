{
  "cells": [
    {
      "cell_type": "markdown",
      "metadata": {
        "id": "NamNkj1gT5e3"
      },
      "source": [
        "# DSP Lab 2022-23"
      ]
    },
    {
      "cell_type": "markdown",
      "metadata": {
        "id": "-B3mncCJT5e5"
      },
      "source": [
        "\n",
        "This lab assignment requires preparation before the lab session. Try to fill in any place that says `YOUR CODE HERE` or \"YOUR ANSWER HERE\" before the session in order to use the limited amount of available time to clarify any doubt or to discuss your solution. Paragraphs that start with ❓explain what you will need to do in the following cell.\n",
        "\n",
        "Before you turn this notebook in, make sure everything runs as expected. First, **restart the kernel** (in the menubar, select Kernel$\\rightarrow$Restart) and then **run all cells** (in the menubar, select Cell$\\rightarrow$Run All).\n"
      ]
    },
    {
      "cell_type": "markdown",
      "metadata": {
        "id": "jBiSrkQ3T5e8"
      },
      "source": [
        "---"
      ]
    },
    {
      "cell_type": "markdown",
      "metadata": {
        "deletable": false,
        "editable": false,
        "id": "xSjzFck7T5e9",
        "nbgrader": {
          "cell_type": "markdown",
          "checksum": "6373fab92349478157e3fd9f4cdb1808",
          "grade": false,
          "grade_id": "cell-687f1b166897620c",
          "locked": true,
          "schema_version": 3,
          "solution": false,
          "task": false
        }
      },
      "source": [
        "## Lab2 - Music Analysis and Synthesis\n",
        "\n",
        "_Luis Caldas de Oliveira_\n",
        "\n",
        "In the previous lab assignment, we discussed the analysis of stationary (sine and square waves) and quasi-stationary (a single musical note played by a musical instrument) signals. It introduced some tools that help characterize these signals in the time and frequency domains.\n",
        "\n",
        "In this lab assignment, you will work with signals whose characteristics change in time as is a case of a musical piece. You will see that the analysis tools used previously can be applied if we divide a signal into small sections during which we assume that the signal is approximately stationary. The evolution of the characteristics of the signal obtained in this way allows us to extract information about its content such as the sequence of notes and the duration of each one.\n",
        "\n",
        "The application of signal-processing approaches to extract meaningful information from music audio signals is called Music Information Retrieval (MIR), a field of study and research that focuses on the development of systems that can automatically analyze, process, and organize audio or music data.\n",
        "\n",
        "In this assignment you will also go in the other direction, that is, to produce a music audio signal from a higher-level representation. A music synthesizer is a device that uses signal processing techniques to generate an audio signal. In the early years of electronic music, these devices were mostly composed of electronic circuits that generated and modified continuous-time signals, but today, most synthesizers use digital signal processing techniques for that purpose. Synthesizers can be used to create new sounds or to simulate natural sounds such as the ones produced by traditional musical instruments."
      ]
    },
    {
      "cell_type": "markdown",
      "metadata": {
        "deletable": false,
        "editable": false,
        "id": "ZWrEWNMdT5e_",
        "nbgrader": {
          "cell_type": "markdown",
          "checksum": "897ca643552f0b049df7b04ca12be645",
          "grade": false,
          "grade_id": "cell-b0c1f1a2019d4e77",
          "locked": true,
          "schema_version": 3,
          "solution": false,
          "task": false
        }
      },
      "source": [
        "### Group and Student ID\n",
        "\n",
        "#### A01 - Initialize group and student id\n",
        "\n",
        "❓Initialize the variable `group_id` with the number that Fenix assigned to your group and `ist_id1` and `ist_id2` with your student numbers."
      ]
    },
    {
      "cell_type": "code",
      "execution_count": 4,
      "metadata": {
        "deletable": false,
        "id": "haUX2BA8T5fA",
        "nbgrader": {
          "cell_type": "code",
          "checksum": "b5f9b89169ad0b87c7eb1140361fa2a1",
          "grade": false,
          "grade_id": "cell-ddd672772100abac",
          "locked": false,
          "schema_version": 3,
          "solution": true,
          "task": false
        }
      },
      "outputs": [
        {
          "name": "stdout",
          "output_type": "stream",
          "text": [
            "Group number: 16\n",
            "Student number: 91592\n",
            "Student number: 97381\n"
          ]
        }
      ],
      "source": [
        "# YOUR CODE HERE\n",
        "group_id = 16\n",
        "ist_id1 = 91592\n",
        "ist_id2 = 97381\n",
        "\n",
        "print(f\"Group number: {group_id}\")\n",
        "print(f\"Student number: {ist_id1}\")\n",
        "print(f\"Student number: {ist_id2}\")"
      ]
    },
    {
      "cell_type": "code",
      "execution_count": 5,
      "metadata": {
        "deletable": false,
        "editable": false,
        "id": "Oi-AcbOPT5fB",
        "nbgrader": {
          "cell_type": "code",
          "checksum": "bd74dc7ce90cc3a8e680e334eee195d9",
          "grade": true,
          "grade_id": "cell-45c1a6b38b138c07",
          "locked": true,
          "points": 10,
          "schema_version": 3,
          "solution": false,
          "task": false
        }
      },
      "outputs": [],
      "source": [
        "assert isinstance(group_id, int) and isinstance(ist_id1, int) and isinstance(ist_id2, int)\n",
        "assert (group_id > 0) and (group_id < 35)\n",
        "assert (ist_id1 > 60000) and (ist_id1 < 120000) and (ist_id2 > 60000) and (ist_id2 < 120000)"
      ]
    },
    {
      "cell_type": "markdown",
      "metadata": {
        "deletable": false,
        "editable": false,
        "id": "09Ac5eYjT5fC",
        "nbgrader": {
          "cell_type": "markdown",
          "checksum": "85890109614b7cd3624575b744bd6138",
          "grade": false,
          "grade_id": "cell-ac05fb5b3bc2cb81",
          "locked": true,
          "schema_version": 3,
          "solution": false,
          "task": false
        }
      },
      "source": [
        "### Group note\n",
        "\n",
        "Remember your group note"
      ]
    },
    {
      "cell_type": "code",
      "execution_count": 6,
      "metadata": {
        "deletable": false,
        "editable": false,
        "id": "20NkzmLRT5fD",
        "nbgrader": {
          "cell_type": "code",
          "checksum": "c7d022fdcc62153e85a119f1c8575c62",
          "grade": false,
          "grade_id": "cell-10d119bc31d9905c",
          "locked": true,
          "schema_version": 3,
          "solution": false,
          "task": false
        }
      },
      "outputs": [
        {
          "name": "stdout",
          "output_type": "stream",
          "text": [
            "Your group's note is: A4\n"
          ]
        }
      ],
      "source": [
        "semitones = ['C','C#','D','D#','E','F','F#','G','G#','A','A#','B']\n",
        "group_note = semitones[(ist_id1+ist_id2)%12] + str(3+(group_id-3)%4)\n",
        "print(f\"Your group's note is: {group_note}\")"
      ]
    },
    {
      "cell_type": "markdown",
      "metadata": {
        "deletable": false,
        "editable": false,
        "id": "AmWWG2SJT5fF",
        "nbgrader": {
          "cell_type": "markdown",
          "checksum": "cadc959ca6da47f53884cc96de71beb1",
          "grade": false,
          "grade_id": "cell-70056cac17313f51",
          "locked": true,
          "schema_version": 3,
          "solution": false,
          "task": false
        }
      },
      "source": [
        "### Import libraries\n",
        "\n"
      ]
    },
    {
      "cell_type": "code",
      "execution_count": 7,
      "metadata": {
        "deletable": false,
        "editable": false,
        "id": "wNJhUalrT5fF",
        "nbgrader": {
          "cell_type": "code",
          "checksum": "0c48e401d9859d7a3e71e1a5fb91cfca",
          "grade": false,
          "grade_id": "cell-ec7e8f6f922be8be",
          "locked": true,
          "schema_version": 3,
          "solution": false,
          "task": false
        }
      },
      "outputs": [],
      "source": [
        "import numpy as np\n",
        "from IPython.display import Audio\n",
        "import librosa\n",
        "import librosa.display\n",
        "from matplotlib import pyplot as plt"
      ]
    },
    {
      "cell_type": "markdown",
      "metadata": {
        "deletable": false,
        "editable": false,
        "id": "u8l7AV5fT5fG",
        "nbgrader": {
          "cell_type": "markdown",
          "checksum": "cabe3752911613301edd93924e4165c2",
          "grade": false,
          "grade_id": "cell-e8f7f6311505121c",
          "locked": true,
          "schema_version": 3,
          "solution": false,
          "task": false
        }
      },
      "source": [
        "### Note frequency\n",
        "\n",
        "In an equal temperament tuning system there is a relationship between a musical note and it's frequency if a reference pair is provided. The most common reference is to assign the frequency of $400\\ Hz$ to the musical note A4.\n",
        "\n",
        "#### A02 - Create a function to compute a note's frequency\n",
        "\n",
        "❓The function `note_frequency()` computes the frequency of the note. Use only standard Python code."
      ]
    },
    {
      "cell_type": "code",
      "execution_count": 8,
      "metadata": {
        "deletable": false,
        "id": "n6GeSD_bT5fH",
        "nbgrader": {
          "cell_type": "code",
          "checksum": "5b462c275a43006a96f60e9a5fea3100",
          "grade": false,
          "grade_id": "cell-3170af02dfa0c7ab",
          "locked": false,
          "schema_version": 3,
          "solution": true,
          "task": false
        }
      },
      "outputs": [
        {
          "name": "stdout",
          "output_type": "stream",
          "text": [
            "The frequency of B4 is 493.88 Hz\n"
          ]
        }
      ],
      "source": [
        "def note_frequency(note):\n",
        "    semitones = ['C','C#','D','D#','E','F','F#','G','G#','A','A#','B']\n",
        "    # YOUR CODE HERE\n",
        "    note_num = semitones.index(note[0]) + (int(note[1]) + 1) * 12-69\n",
        "    frequency = 440*2 ** ((note_num) / 12)\n",
        "    return frequency\n",
        "\n",
        "\n",
        "print(f\"The frequency of B4 is {note_frequency('B4'):.2f} Hz\")"
      ]
    },
    {
      "cell_type": "code",
      "execution_count": 9,
      "metadata": {
        "deletable": false,
        "editable": false,
        "id": "zZ8-AQOkT5fH",
        "nbgrader": {
          "cell_type": "code",
          "checksum": "a07db86169a8a86f6e3a64f79bdc5b76",
          "grade": true,
          "grade_id": "cell-1042f067052c84c8",
          "locked": true,
          "points": 20,
          "schema_version": 3,
          "solution": false,
          "task": false
        }
      },
      "outputs": [],
      "source": [
        "assert np.isclose(note_frequency('A4'), 440)\n",
        "assert np.isclose(note_frequency('A5'), 880)"
      ]
    },
    {
      "cell_type": "markdown",
      "metadata": {
        "deletable": false,
        "editable": false,
        "id": "9pQKqWOgT5fI",
        "nbgrader": {
          "cell_type": "markdown",
          "checksum": "20e993fc7de9df0fb4aa798dab7d495d",
          "grade": false,
          "grade_id": "cell-e5f34d1de09e8861",
          "locked": true,
          "schema_version": 3,
          "solution": false,
          "task": false
        }
      },
      "source": [
        "### Major chord\n",
        "\n",
        "A major chord is a chord made up of three notes that contains the 1st, 3rd, and 5th notes of a major scale. For example, the notes of a C major chord are the 1st (the root note), 3rd, and 5th notes, which are C (the root note), E, and G.\n",
        "\n",
        "Given the major chord root note, the second note is the major third (root + 4 semitones) and the third note is the perfect fifth (root + 7 semitones).\n",
        "\n",
        "#### A03 - Create a function to compute the frequencies of the 3rd and 5th notes\n",
        "\n",
        "❓The function `major_cord()` computes the frequencies of the 3rd and 5th notes from the root frequency of the cord."
      ]
    },
    {
      "cell_type": "code",
      "execution_count": 10,
      "metadata": {
        "deletable": false,
        "id": "ROyQedmaT5fJ",
        "nbgrader": {
          "cell_type": "code",
          "checksum": "e0477dd72a17a8cdd3af0c222726f148",
          "grade": false,
          "grade_id": "cell-c9bc957aec7fc4b8",
          "locked": false,
          "schema_version": 3,
          "solution": true,
          "task": false
        }
      },
      "outputs": [
        {
          "name": "stdout",
          "output_type": "stream",
          "text": [
            "The frequencies of the third and fifth of a C major chord are (329.6275569128699, 391.99543598174927)\n"
          ]
        }
      ],
      "source": [
        "def major_chord(rootfreq):\n",
        "    # YOUR CODE HERE\n",
        "    thirdfreq = rootfreq * 2**(4/12) # Calculate the frequency of the major third\n",
        "    fifthfreq = rootfreq * 2**(7/12)\n",
        "    return thirdfreq, fifthfreq\n",
        "\n",
        "print(f\"The frequencies of the third and fifth of a C major chord are {major_chord(note_frequency('C4'))}\")\n"
      ]
    },
    {
      "cell_type": "code",
      "execution_count": 11,
      "metadata": {
        "deletable": false,
        "editable": false,
        "id": "A8LjEyOLT5fJ",
        "nbgrader": {
          "cell_type": "code",
          "checksum": "dbd714397fddae2ca89f59bb2df10432",
          "grade": true,
          "grade_id": "cell-04b8398d6d2fb984",
          "locked": true,
          "points": 20,
          "schema_version": 3,
          "solution": false,
          "task": false
        }
      },
      "outputs": [
        {
          "name": "stdout",
          "output_type": "stream",
          "text": [
            "329.6275569128699 329.6275569128699\n"
          ]
        }
      ],
      "source": [
        "print(note_frequency('E4'),major_chord(note_frequency('C4'))[0])\n",
        "\n",
        "assert np.isclose(major_chord(note_frequency('C4'))[0], note_frequency('E4'))\n",
        "assert np.isclose(major_chord(note_frequency('C4'))[1], note_frequency('G4'))"
      ]
    },
    {
      "cell_type": "markdown",
      "metadata": {
        "deletable": false,
        "editable": false,
        "id": "o6TaNRzfT5fK",
        "nbgrader": {
          "cell_type": "markdown",
          "checksum": "179fc1021859b2962efbc647deab080a",
          "grade": false,
          "grade_id": "cell-04be90bca2156194",
          "locked": true,
          "schema_version": 3,
          "solution": false,
          "task": false
        }
      },
      "source": [
        "### Generate and play the group's chord"
      ]
    },
    {
      "cell_type": "code",
      "execution_count": 12,
      "metadata": {
        "deletable": false,
        "editable": false,
        "id": "bQgLVUnoT5fK",
        "nbgrader": {
          "cell_type": "code",
          "checksum": "ca6f2479794739e087d9ccacf75cf847",
          "grade": false,
          "grade_id": "cell-d297321a132f705a",
          "locked": true,
          "schema_version": 3,
          "solution": false,
          "task": false
        }
      },
      "outputs": [
        {
          "data": {
            "text/html": [
              "\n",
              "                <audio  controls=\"controls\" >\n",
              "                    <source src=\"data:audio/wav;base64,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\" type=\"audio/wav\" />\n",
              "                    Your browser does not support the audio element.\n",
              "                </audio>\n",
              "              "
            ],
            "text/plain": [
              "<IPython.lib.display.Audio object>"
            ]
          },
          "execution_count": 12,
          "metadata": {},
          "output_type": "execute_result"
        }
      ],
      "source": [
        "fs = 22050\n",
        "thirdfreq, fithfreq = major_chord(note_frequency(group_note))\n",
        "rootw= 2*np.pi*note_frequency(group_note)/fs\n",
        "thirdw= 2*np.pi*thirdfreq/fs\n",
        "fifthw= 2*np.pi*fithfreq/fs\n",
        "\n",
        "# play the notes of the chord\n",
        "n = np.arange(0, 2*fs)\n",
        "group_chord = np.sin(rootw*n)\n",
        "group_chord[int(fs/2):] += np.sin(thirdw*n[int(fs/2):])\n",
        "group_chord[fs:] += np.sin(fifthw*n[fs:])\n",
        "Audio(group_chord, rate=fs)"
      ]
    },
    {
      "cell_type": "markdown",
      "metadata": {
        "deletable": false,
        "editable": false,
        "id": "7mnwQxVaT5fK",
        "nbgrader": {
          "cell_type": "markdown",
          "checksum": "9ba85edd32b3eb9369b3b2e4e3ca93b6",
          "grade": false,
          "grade_id": "cell-ef1e2cc09d142a46",
          "locked": true,
          "schema_version": 3,
          "solution": false,
          "task": false
        }
      },
      "source": [
        "### Frame-based RMS\n",
        "\n",
        "Frame-based root mean square (RMS) is a method of calculating the root mean square (RMS) of an audio signal by analyzing it in a series of frames. Each frame is a sequence of $N$ consecutive samples of the signal. $N$ is commonly referred as the _frame size_.\n",
        "\n",
        "It works by taking each frame of the signal and calculating the RMS value for that specific frame.\n",
        "\n",
        "It works by taking each frame of the signal and calculating the RMS value for that specific frame. \n",
        "\n",
        "It is common to have some overlap between frames. This means that the next frame begins $K$ samples after the beginning of the previous frame. $K$ is referred as the _hop size_ and is often defined as a fraction of the _frame size_ ($K = N/4$, for example).\n",
        "\n",
        "The frame-based RMS can be useful in determining the time changes in the loudness or power of an audio signal, as well as providing a way to compare different signals to one another. This measure is widely used in audio engineering and music production, where it is important to get an accurate measurement of the loudness of a particular recording.\n",
        "\n",
        "#### A04 - Create a function to compute the frame-base RMS\n",
        "\n",
        "❓Use only standard Python or NumPy library functions to create a function that returns a NumPy array with the frame-based RMS values."
      ]
    },
    {
      "cell_type": "code",
      "execution_count": 89,
      "metadata": {
        "deletable": false,
        "id": "1PrXOPRkT5fL",
        "nbgrader": {
          "cell_type": "code",
          "checksum": "42f6152096f8aefa7ac0baff119da9b6",
          "grade": false,
          "grade_id": "cell-2661be74ad095d70",
          "locked": false,
          "schema_version": 3,
          "solution": true,
          "task": false
        }
      },
      "outputs": [],
      "source": [
        "\n",
        "def rms(x, frame_size=0, hop_size=0):\n",
        "    \"\"\"Compute the RMS of a signal in frames.\n",
        "    \n",
        "    Parameters\n",
        "    ----------\n",
        "    x : np.ndarray\n",
        "        Input signal.\n",
        "    frame_size : int\n",
        "        Frame size in samples. If 0, the whole signal is used.\n",
        "    hop_size : int\n",
        "        Hop size in samples. If 0, the frame size is divided by 4.\n",
        "    \n",
        "    Returns\n",
        "    -------\n",
        "    rms : np.ndarray\n",
        "        RMS of the signal in frames.\n",
        "    \"\"\"\n",
        "    if frame_size == 0:\n",
        "        frame_size = len(x)\n",
        "        hop_size = frame_size\n",
        "    if hop_size == 0:\n",
        "        hop_size = frame_size/4\n",
        "    fbrms=[]\n",
        "    for i in range(int(x.size/frame_size)):\n",
        "        xi = x[hop_size+(i-1)*frame_size:hop_size+(i)*frame_size] if i!=0 else x[:frame_size]\n",
        "        fbrms.append(np.sqrt((1/xi.size)*np.sum(xi**2)))\n",
        "\n",
        "    #fbrms=np.array([np.sqrt((1/i.size)*np.sum(i**2))for i in np.array(np.split(x,hop_size,axis=0)).T])\n",
        "\n",
        "    return fbrms\n"
      ]
    },
    {
      "cell_type": "code",
      "execution_count": 90,
      "metadata": {
        "deletable": false,
        "editable": false,
        "id": "UNqeaOQQT5fM",
        "nbgrader": {
          "cell_type": "code",
          "checksum": "06a4063b4444643a28b81151db2d848b",
          "grade": true,
          "grade_id": "cell-789c247f1066bde7",
          "locked": true,
          "points": 20,
          "schema_version": 3,
          "solution": false,
          "task": false
        }
      },
      "outputs": [],
      "source": [
        "assert np.isclose(np.sum(rms(np.ones(1000), 100, 100)), 10.)"
      ]
    },
    {
      "cell_type": "markdown",
      "metadata": {
        "deletable": false,
        "editable": false,
        "id": "ahUuIfhLT5fM",
        "nbgrader": {
          "cell_type": "markdown",
          "checksum": "ddb5fa40c58a220f5a4204d8a46342c6",
          "grade": false,
          "grade_id": "cell-edb8111ed108821e",
          "locked": true,
          "schema_version": 3,
          "solution": false,
          "task": false
        }
      },
      "source": [
        "### Frame-based RMS of the group's chord\n",
        "\n",
        "A small frame size is good for locating rapid transitions in energy levels, but introduces fluctuations in stable regions."
      ]
    },
    {
      "cell_type": "code",
      "execution_count": 91,
      "metadata": {
        "deletable": false,
        "editable": false,
        "id": "APW9bMyET5fN",
        "nbgrader": {
          "cell_type": "code",
          "checksum": "e82c6cceebdff2a9a945b2d1061a6123",
          "grade": false,
          "grade_id": "cell-a65561ce66fe560a",
          "locked": true,
          "schema_version": 3,
          "solution": false,
          "task": false
        }
      },
      "outputs": [
        {
          "data": {
            "text/plain": [
              "<librosa.display.AdaptiveWaveplot at 0x7ffa9aa23130>"
            ]
          },
          "execution_count": 91,
          "metadata": {},
          "output_type": "execute_result"
        },
        {
          "data": {
            "image/png": "[encoded data removed]",
            "text/plain": [
              "<Figure size 640x480 with 1 Axes>"
            ]
          },
          "metadata": {},
          "output_type": "display_data"
        },
        {
          "ename": "AttributeError",
          "evalue": "module 'matplotlib' has no attribute 'pyplot'",
          "output_type": "error",
          "traceback": [
            "\u001b[0;31m---------------------------------------------------------------------------\u001b[0m",
            "\u001b[0;31mAttributeError\u001b[0m                            Traceback (most recent call last)",
            "File \u001b[0;32m~/.local/lib/python3.10/site-packages/matplotlib_inline/backend_inline.py:99\u001b[0m, in \u001b[0;36mshow\u001b[0;34m(close, block)\u001b[0m\n\u001b[1;32m     96\u001b[0m \u001b[39m# only call close('all') if any to close\u001b[39;00m\n\u001b[1;32m     97\u001b[0m \u001b[39m# close triggers gc.collect, which can be slow\u001b[39;00m\n\u001b[1;32m     98\u001b[0m \u001b[39mif\u001b[39;00m close \u001b[39mand\u001b[39;00m Gcf\u001b[39m.\u001b[39mget_all_fig_managers():\n\u001b[0;32m---> 99\u001b[0m     matplotlib\u001b[39m.\u001b[39;49mpyplot\u001b[39m.\u001b[39mclose(\u001b[39m'\u001b[39m\u001b[39mall\u001b[39m\u001b[39m'\u001b[39m)\n",
            "File \u001b[0;32m~/.local/lib/python3.10/site-packages/matplotlib/_api/__init__.py:226\u001b[0m, in \u001b[0;36mcaching_module_getattr.<locals>.__getattr__\u001b[0;34m(name)\u001b[0m\n\u001b[1;32m    224\u001b[0m \u001b[39mif\u001b[39;00m name \u001b[39min\u001b[39;00m props:\n\u001b[1;32m    225\u001b[0m     \u001b[39mreturn\u001b[39;00m props[name]\u001b[39m.\u001b[39m\u001b[39m__get__\u001b[39m(instance)\n\u001b[0;32m--> 226\u001b[0m \u001b[39mraise\u001b[39;00m \u001b[39mAttributeError\u001b[39;00m(\n\u001b[1;32m    227\u001b[0m     \u001b[39mf\u001b[39m\u001b[39m\"\u001b[39m\u001b[39mmodule \u001b[39m\u001b[39m{\u001b[39;00m\u001b[39mcls\u001b[39m\u001b[39m.\u001b[39m\u001b[39m__module__\u001b[39m\u001b[39m!r}\u001b[39;00m\u001b[39m has no attribute \u001b[39m\u001b[39m{\u001b[39;00mname\u001b[39m!r}\u001b[39;00m\u001b[39m\"\u001b[39m)\n",
            "\u001b[0;31mAttributeError\u001b[0m: module 'matplotlib' has no attribute 'pyplot'"
          ]
        }
      ],
      "source": [
        "frame_size = 512\n",
        "hop_size = 128\n",
        "# add some silence at the beginning and end of the chord\n",
        "chord = np.concatenate([np.zeros(int(0.2*fs)), group_chord, np.zeros(int(0.2*fs))])\n",
        "rms_chord = rms(chord, frame_size=frame_size, hop_size=hop_size)\n",
        "t = np.arange(len(rms_chord)) * hop_size / fs\n",
        "plt.plot(t, rms_chord)\n",
        "librosa.display.waveshow(chord, sr=fs)"
      ]
    },
    {
      "cell_type": "markdown",
      "metadata": {
        "deletable": false,
        "editable": false,
        "id": "TyE8YrwWT5fN",
        "nbgrader": {
          "cell_type": "markdown",
          "checksum": "afd211804d3cd189e724f9874be558cb",
          "grade": false,
          "grade_id": "cell-c4824600edd49318",
          "locked": true,
          "schema_version": 3,
          "solution": false,
          "task": false
        }
      },
      "source": [
        "### Frame-based RMS of an audio signal\n",
        "\n",
        "A larger frame size produces a smoother energy envelope but fails to locate fast energy transitions."
      ]
    },
    {
      "cell_type": "code",
      "execution_count": 92,
      "metadata": {
        "deletable": false,
        "editable": false,
        "id": "5zAsLWZ8T5fO",
        "nbgrader": {
          "cell_type": "code",
          "checksum": "d178a7f80275d4790680ac409718916a",
          "grade": false,
          "grade_id": "cell-5f2fc377213be0eb",
          "locked": true,
          "schema_version": 3,
          "solution": false,
          "task": false
        }
      },
      "outputs": [
        {
          "data": {
            "text/plain": [
              "<librosa.display.AdaptiveWaveplot at 0x7ffa9a9c3bb0>"
            ]
          },
          "execution_count": 92,
          "metadata": {},
          "output_type": "execute_result"
        }
      ],
      "source": [
        "frame_size = 2048\n",
        "hop_size = 512\n",
        "x, fs = librosa.load(librosa.ex('trumpet'))\n",
        "rms1 = rms(x, frame_size=frame_size, hop_size=hop_size)\n",
        "t = np.arange(len(rms1)) * hop_size / fs\n",
        "plt.plot(t, rms1)\n",
        "librosa.display.waveshow(x, sr=fs)"
      ]
    },
    {
      "cell_type": "markdown",
      "metadata": {
        "deletable": false,
        "editable": false,
        "id": "p0T01u1hT5fO",
        "nbgrader": {
          "cell_type": "markdown",
          "checksum": "c0fc5d05d99e3b79ebc61b0244f1d702",
          "grade": false,
          "grade_id": "cell-a54b1ba231be91c1",
          "locked": true,
          "schema_version": 3,
          "solution": false,
          "task": false
        }
      },
      "source": [
        "### Decibels relative to full scale (dBFS)\n",
        "\n",
        "Decibels relative to full scale (dBFS) is a measure of amplitude levels in decibels.\n",
        "\n",
        "If $v$ is the amplitude of the signal that we want to measure and $v_{0}$ a reference amplitude, the amplitude ratio in decibels is:\n",
        "$$\n",
        "L_{dB} = 20 \\log_{10}\\left( \\frac{v}{v_{0}}\\right)\n",
        "$$\n",
        "\n",
        "The measure of decibels realtive to full scale (dBFS) assumes that $v_0$ is the maximum possible value for $v$ such that:\n",
        "$$\n",
        "L_{dBFS}(v_{0}) = 0\\ dB\n",
        "$$\n",
        "\n",
        "When the amplitude is at 50% of the maximum level:\n",
        "$$\n",
        "L_{dBFS}\\left( \\frac{v_{0}}{2} \\right) \\approx -6\\ dB\n",
        "$$\n",
        "\n",
        "Many signals resulting from an analog to digital conversion are represented in an amplitude range of $[-1,1]$, which means that $v_{0}=1$.\n",
        "\n",
        "#### A05 - Create a function to compute the dBFS\n",
        "\n",
        "❓Use only standard Python or NumPy library functions to create a function to convert to dBFS a NumPy array with linear amplitudes."
      ]
    },
    {
      "cell_type": "code",
      "execution_count": null,
      "metadata": {
        "deletable": false,
        "id": "HWNeLhsnT5fP",
        "nbgrader": {
          "cell_type": "code",
          "checksum": "4f26d622b8b6d0637e7d8c78ef096b72",
          "grade": false,
          "grade_id": "cell-bbadda759a641a56",
          "locked": false,
          "schema_version": 3,
          "solution": true,
          "task": false
        }
      },
      "outputs": [],
      "source": [
        "def dbfs(amplitude):\n",
        "    \"\"\"\n",
        "    Convert amplitude to decibels relative to full scale.\n",
        "    \"\"\"\n",
        "    # YOUR CODE HERE\n",
        "    raise NotImplementedError()\n",
        "    return db"
      ]
    },
    {
      "cell_type": "code",
      "execution_count": null,
      "metadata": {
        "deletable": false,
        "editable": false,
        "id": "PhZqYBSyT5fP",
        "nbgrader": {
          "cell_type": "code",
          "checksum": "531e324b7185ba79855b33545b56eb30",
          "grade": true,
          "grade_id": "cell-9840308e1bbc20fe",
          "locked": true,
          "points": 20,
          "schema_version": 3,
          "solution": false,
          "task": false
        }
      },
      "outputs": [],
      "source": [
        "assert np.isclose(dbfs(1), 0)\n",
        "assert np.isclose(dbfs(0.5), -6, atol=0.1)"
      ]
    },
    {
      "cell_type": "markdown",
      "metadata": {
        "deletable": false,
        "editable": false,
        "id": "sGLxKvhvT5fP",
        "nbgrader": {
          "cell_type": "markdown",
          "checksum": "c681bad9efc4058880e5b1a9b142b51e",
          "grade": false,
          "grade_id": "cell-f6f8a936ded1f8e2",
          "locked": true,
          "schema_version": 3,
          "solution": false,
          "task": false
        }
      },
      "source": [
        "### short-time Fourier transform (STFT)\n",
        "\n",
        "The short-time Fourier transform is a type of Fourier analysis used to determine the frequency content of a signal over short, fixed-length time intervals. It is used in many applications, such as speech processing and musical analysis. The STFT is based on the conventional Fourier transform, but it divides the signal into overlapping segments and then performs a Fourier analysis for each segment. This results in a two-dimensional representation of the signal, where the frequency is on one axis and time on the other. Different resolutions can be obtained for analyzing different aspects of the signal by varying the size and position of the segments.\n",
        "\n",
        "The signal segmentation is performed by multiplying the signal by a window function $w(n)$ that is zero-valued outside a specified interval. For example the rectangular window:\n",
        "$$\n",
        "w_{r}(n) =\n",
        "\\begin{cases}\n",
        "1, & 0 \\le n \\le M-1 \\\\\n",
        "0, & \\text{otherwise}\n",
        "\\end{cases}\n",
        "$$\n",
        "\n",
        "The short-time Fourier transform, $X(n, \\omega)$ is a two-dimensional representation of the signal $x(n)$:\n",
        "$$\n",
        "X(n, \\omega) = \\sum_{m=-\\infty}^{+\\infty} x(n+m)w(m) e^{-j\\omega (n+m)} \n",
        "$$\n",
        "\n",
        "If we use the discrete Fourier transform (DFT):\n",
        "\n",
        "$$\n",
        "X(n,k) = \\sum_{m=0}^{M-1}x(n+m)w(m) e^{-j \\frac{2\\pi}{M}(n+m)},\\ 0\\le k \\le M-1\n",
        "$$\n"
      ]
    },
    {
      "cell_type": "markdown",
      "metadata": {
        "id": "IrLNChKJT5fQ"
      },
      "source": [
        "### Spectrogram of a signal\n",
        "\n",
        "The spectrogram of a time-domain signal is a representation of the magnitude of the [[short-time Fourier transform (STFT)]] ($X(n,k)$) of a signal.\n",
        "\n",
        "To facilitate the analysis of the signal, it is common to use the time axis in seconds or milliseconds and the frequency axis in Hz. The value of the amplitude of the spectrum at each point is represented with a darker color for low values and brighter color for higher values.\n",
        "\n",
        "For better visualization of the entire range of amplitudes, it is frequent to represent them in decibels (dB).\n",
        "\n",
        "The short-time Fourier transform can be computed with the `librosa.stft()` function. The resulting linear amplitudes need to be converted to dB. The function `librosa.display.specshow()` function can then be used to display the spectrogram as a frequency versus time representation of the signal."
      ]
    },
    {
      "cell_type": "code",
      "execution_count": null,
      "metadata": {
        "id": "ggtf25RsT5fQ"
      },
      "outputs": [],
      "source": [
        "def spectrogram(x, fs, n_fft=2048, win_length=2048, hop_length=512, window='hann'):\n",
        "    D = librosa.stft(x, n_fft=n_fft, win_length=win_length, hop_length=hop_length, window=window)\n",
        "    DAbsdB = librosa.amplitude_to_db(np.abs(D), ref=np.max)\n",
        "    return DAbsdB\n",
        "\n",
        "# Test spectrogram: plot a spectrogram of a trumpet audio\n",
        "\n",
        "x, fs = librosa.load(librosa.ex('trumpet'), duration=3)\n",
        "\n",
        "DAbsdB = spectrogram(x, fs)\n",
        "fig, ax = plt.subplots(figsize=(10,8))\n",
        "img = librosa.display.specshow(DAbsdB, ax=ax, x_axis='time', y_axis='linear')\n",
        "ax.set(title='Linear-frequency power spectrogram')\n",
        "ax.label_outer()\n",
        "fig.colorbar(img, ax=ax, format=\"%+2.f dB\")\n",
        "\n",
        "Audio(data=x, rate=fs)"
      ]
    },
    {
      "cell_type": "markdown",
      "metadata": {
        "id": "ctUrXawcT5fQ"
      },
      "source": [
        "### Wave and spectrogram visualization\n",
        "\n",
        "It is frequently useful to have a simultaneous view of both the spectrogram and the time domain waveform aligned in time."
      ]
    },
    {
      "cell_type": "code",
      "execution_count": null,
      "metadata": {
        "id": "mxEx0DrCT5fR"
      },
      "outputs": [],
      "source": [
        "def spec_wave_show(x, fs, tmin=0, tmax=0, n_fft=2048, win_length=2048, hop_length=512, window='hann'):\n",
        "    \"\"\"\n",
        "    Plot a spectrogram and a waveform of a signal x\n",
        "    \"\"\"\n",
        "    if (tmax == 0):\n",
        "        tmax = x.shape[0]/fs\n",
        "    nseg = np.arange(np.floor(tmin*fs), np.ceil(tmax*fs), dtype=int)\n",
        "\n",
        "    D = librosa.stft(x, n_fft=n_fft, win_length=win_length, hop_length=hop_length, window=window)\n",
        "    DAbsdB = librosa.amplitude_to_db(np.abs(D), ref=np.max)\n",
        "\n",
        "    fig, ax = plt.subplots(figsize=(10,8), nrows=2, height_ratios=[4, 1], sharex=True)\n",
        "    ax[0].set(xlim=[tmin, tmax])\n",
        "    librosa.display.specshow(DAbsdB, sr=fs, n_fft=n_fft, win_length=win_length, hop_length=hop_length, ax=ax[0], x_axis='time', y_axis='linear')\n",
        "    ax[0].set(title='Linear-frequency power spectrogram')\n",
        "    librosa.display.waveshow(x, sr=fs, x_axis='time')\n",
        "    display(Audio(data=x[nseg], rate=fs))\n",
        "    plt.tight_layout()\n",
        "    plt.show()\n",
        "    return fig, ax\n",
        "\n",
        "img, ax = spec_wave_show(x, fs, tmin=0.0, tmax=1.9)"
      ]
    },
    {
      "cell_type": "markdown",
      "metadata": {
        "deletable": false,
        "editable": false,
        "id": "V5h1Lop6T5fR",
        "nbgrader": {
          "cell_type": "markdown",
          "checksum": "4c4000bccf573329482b3a05b9282e0c",
          "grade": false,
          "grade_id": "cell-a5505d4d13e4f896",
          "locked": true,
          "schema_version": 3,
          "solution": false,
          "task": false
        }
      },
      "source": [
        "### Time versus frequency resolution\n",
        "\n",
        "As with the computation of the frame-based RMS, the size of the frame needs to be adjusted depending on the desired time or frequency resolution.\n",
        "\n",
        "The previous spectrogram was computed with the default frame size of 2048 samples. To increase the time resolution we can reduce it to 256 samples."
      ]
    },
    {
      "cell_type": "code",
      "execution_count": null,
      "metadata": {
        "deletable": false,
        "editable": false,
        "id": "pQFqTHyCT5fS",
        "nbgrader": {
          "cell_type": "code",
          "checksum": "9f9074de85fd0d386ceaad5c79147fa8",
          "grade": false,
          "grade_id": "cell-eb7abe4ed4e60988",
          "locked": true,
          "schema_version": 3,
          "solution": false,
          "task": false
        }
      },
      "outputs": [],
      "source": [
        "fsize = 256\n",
        "img, ax = spec_wave_show(x, fs, tmin=0.0, tmax=1.9, n_fft=fsize, win_length=fsize, hop_length=fsize//4, window='hann')"
      ]
    },
    {
      "cell_type": "markdown",
      "metadata": {
        "deletable": false,
        "editable": false,
        "id": "Y8HYSdYcT5fS",
        "nbgrader": {
          "cell_type": "markdown",
          "checksum": "d4deaa6a21ddd93aacb8e36cf6dd7049",
          "grade": false,
          "grade_id": "cell-8a77c6dc75621aef",
          "locked": true,
          "schema_version": 3,
          "solution": false,
          "task": false
        }
      },
      "source": [
        "#### A06 - Wideband and narrowband spectrograms\n",
        "\n",
        "❓Compare the differences between the spectrograms with frame sizes of 2048 and 256 samples. Wich one can be considered a narrowband spectrogram? Give an example of an applications for a wideband spectrogram and for a narrowband spectrogram."
      ]
    },
    {
      "cell_type": "markdown",
      "metadata": {
        "deletable": false,
        "id": "KlSfUzmIT5fS",
        "nbgrader": {
          "cell_type": "markdown",
          "checksum": "86466297b6f4425ea80b3c3de1b24925",
          "grade": true,
          "grade_id": "cell-055ee895b1c1e2ae",
          "locked": false,
          "points": 20,
          "schema_version": 3,
          "solution": true,
          "task": false
        }
      },
      "source": [
        "YOUR ANSWER HERE"
      ]
    },
    {
      "cell_type": "markdown",
      "metadata": {
        "deletable": false,
        "editable": false,
        "id": "8VhKcdtNT5fS",
        "nbgrader": {
          "cell_type": "markdown",
          "checksum": "ce207b0a1f8125fabf735be156476c36",
          "grade": false,
          "grade_id": "cell-b33703d227e4af7e",
          "locked": true,
          "schema_version": 3,
          "solution": false,
          "task": false
        }
      },
      "source": [
        "### Autocorrelation\n",
        "\n",
        "Autocorrelation measures how closely related a sequence of values is to itself over successive time intervals. It describes the degree of similarity between observations as a function of the time lag between them. \n",
        "\n",
        "It can be defined as:\n",
        "$$\n",
        "r_{x} (m) = \\sum_{n=-\\infty}^{+\\infty} x(n) x(n+m)\n",
        "$$\n",
        "where the variable $m$ is called _lag_. \n",
        "\n",
        "The autocorrelation sequence is symmetric: $r_{x}(m) = r_{x}(-m)$.\n",
        "\n",
        "The autocorrelation can be used to find the periodicity of a noisy signal since it should be periodicly more similar to itself. This, for example, the case of a tone produced by a musical instrument.\n",
        "\n",
        "The following code computes the autocorrelation of a segment with 256 samples of a stationary region of the second note of the recording  (D5, 587.330 Hz).\n"
      ]
    },
    {
      "cell_type": "code",
      "execution_count": null,
      "metadata": {
        "deletable": false,
        "editable": false,
        "id": "n7hsISczT5fT",
        "nbgrader": {
          "cell_type": "code",
          "checksum": "e1bd3ca2e26fabb13f07f459b0f065d2",
          "grade": false,
          "grade_id": "cell-7eb00a500283bd6e",
          "locked": true,
          "schema_version": 3,
          "solution": false,
          "task": false
        }
      },
      "outputs": [],
      "source": [
        "\n",
        "N = 512\n",
        "tmiddle = 0.294\n",
        "tmin = tmiddle - N/(2*fs)\n",
        "tmax = tmin + N/fs\n",
        "n_seg = np.arange(tmin*fs, tmax*fs, dtype=int)\n",
        "note2 = x[n_seg]\n",
        "\n",
        "\n",
        "acorr = librosa.autocorrelate(note2)\n",
        "\n",
        "time = np.linspace(0,1000*N/fs,N)\n",
        "plt.plot(time, acorr)\n",
        "plt.xlabel(\"Time (ms)\")\n",
        "plt.grid()\n",
        "plt.show()\n",
        "\n",
        "# skip the first 3 samples to locate the index of the second maximum\n",
        "lag = np.argmax(acorr[3:])+3\n",
        "print(f\"D5 frequency: 587.330 Hz\")\n",
        "print(f\"lag = {lag}\")\n",
        "print(f\"period = {1000*lag/fs:.2f} ms\")\n",
        "print(f\"frequency = {fs/lag:.2f} Hz\")"
      ]
    },
    {
      "cell_type": "markdown",
      "metadata": {
        "deletable": false,
        "editable": false,
        "id": "4uF8dm-lT5fT",
        "nbgrader": {
          "cell_type": "markdown",
          "checksum": "53e7fe5e0008ae8e5396e9cd6c8145de",
          "grade": false,
          "grade_id": "cell-cfa7e6921db00628",
          "locked": true,
          "schema_version": 3,
          "solution": false,
          "task": false
        }
      },
      "source": [
        "### Peak-picking\n",
        "\n",
        "A peak-picking algorithm is an algorithm used to detect local maxima and minima in a set of data. The algorithm typically begins by smoothing the data with a moving average or similar technique. Once the data has been smoothed, the algorithm searches for local maxima and minima, which can be identified by comparing values between adjacent points in the data set. \n",
        "\n",
        "The libROSA library includes the function `librosa.util.peak_pick()` that returns the indexes of the most prominent peaks in the signal.\n",
        "\n",
        "Finding all the peaks of the autocorrelation function provides a better estimate of the fundamental frequency of the signal."
      ]
    },
    {
      "cell_type": "code",
      "execution_count": null,
      "metadata": {
        "deletable": false,
        "editable": false,
        "id": "M0IqYgF3T5fU",
        "nbgrader": {
          "cell_type": "code",
          "checksum": "765c7fa5858349a0a740384140976c79",
          "grade": false,
          "grade_id": "cell-f09059653a46623c",
          "locked": true,
          "schema_version": 3,
          "solution": false,
          "task": false
        }
      },
      "outputs": [],
      "source": [
        "\n",
        "peaks = librosa.util.peak_pick(acorr, pre_max=3, post_max=3, pre_avg=3, post_avg=5, delta=0.8, wait=10)\n",
        "\n",
        "# plot the autocorrelation and location of the peaks\n",
        "time = np.linspace(0,1000*N/fs,N)\n",
        "plt.plot(time, acorr)\n",
        "plt.plot(time[peaks], acorr[peaks], \"x\")\n",
        "plt.xlabel(\"Time (ms)\")\n",
        "plt.grid()\n",
        "plt.show()\n"
      ]
    },
    {
      "cell_type": "markdown",
      "metadata": {
        "deletable": false,
        "editable": false,
        "id": "fLcPbtEBT5fU",
        "nbgrader": {
          "cell_type": "markdown",
          "checksum": "d1a85259a2df53659c1f5b0d31843dd8",
          "grade": false,
          "grade_id": "cell-a1a48b1d06fa4874",
          "locked": true,
          "schema_version": 3,
          "solution": false,
          "task": false
        }
      },
      "source": [
        "#### A07 - Define a function to compute the pitch of a signal\n",
        "\n",
        "❓Define the contents of the function `pitch()` that provides a better estimate of the fundamental frequência in Hz of the signal `x` by using more harmonic peaks."
      ]
    },
    {
      "cell_type": "code",
      "execution_count": null,
      "metadata": {
        "deletable": false,
        "id": "Soey2laQT5fU",
        "nbgrader": {
          "cell_type": "code",
          "checksum": "60ead1330dd2cffbb3d2d3b23a9b2022",
          "grade": false,
          "grade_id": "cell-b98e1330923c01c3",
          "locked": false,
          "schema_version": 3,
          "solution": true,
          "task": false
        }
      },
      "outputs": [],
      "source": [
        "def pitch(x, fs):\n",
        "    \"\"\"\n",
        "    Compute the pitch of a signal x\n",
        "    \"\"\"\n",
        "    # YOUR CODE HERE\n",
        "    raise NotImplementedError()\n",
        "    return f0\n",
        "\n",
        "print(f\"D5 frequency: 587.330 Hz\")\n",
        "print(f\"Frequency using 1st peak: {fs/lag:.2f} Hz\")\n",
        "print(f\"Frequency using pitch() function: {pitch(note2, fs):.2f} Hz\")"
      ]
    },
    {
      "cell_type": "code",
      "execution_count": null,
      "metadata": {
        "deletable": false,
        "editable": false,
        "id": "odcECIbCT5fV",
        "nbgrader": {
          "cell_type": "code",
          "checksum": "8726377157b852ba7790400c9f62d2c8",
          "grade": true,
          "grade_id": "cell-bad4841e9151f140",
          "locked": true,
          "points": 20,
          "schema_version": 3,
          "solution": false,
          "task": false
        }
      },
      "outputs": [],
      "source": [
        "assert np.isclose(pitch(note2, fs), 587.330, atol=3)"
      ]
    },
    {
      "cell_type": "markdown",
      "metadata": {
        "deletable": false,
        "editable": false,
        "id": "8k-S2UCiT5fV",
        "nbgrader": {
          "cell_type": "markdown",
          "checksum": "b202d28c4275bc6baa88720092a7bd5a",
          "grade": false,
          "grade_id": "cell-6f1b4f93dd634125",
          "locked": true,
          "schema_version": 3,
          "solution": false,
          "task": false
        }
      },
      "source": [
        "### Spectral flux\n",
        "\n",
        "Spectral flux is a measure of the change in the magnitude spectrum of a signal over time. Spectral flux measures the difference in energy between two consecutive audio frames and can be used for onset detection or to detect percussive elements or rhythmic transitions. It is also used for sound classification, beat tracking, and instrument detection.\n",
        "\n",
        "The spectral flux can be computed using the temporal evolution of the magnitude spectrogram $| X(n,k) |$ by computing the difference between two consecutive short-time spectra and then summing all positive deviations:\n",
        "\n",
        "$$\n",
        "SF(n) = \\sum_{k=1}^{N/2} H \\left( |X(n,k)| - |X(n-1,k)| \\right)\n",
        "$$\n",
        "\n",
        "where $n$ is the frame number, $k$ the frequency bin index, and $H(\\cdot)$ is the half-wave rectifier function:\n",
        "$$\n",
        "H(x) = \\frac{x+|x|}{2}\n",
        "$$\n",
        "\n"
      ]
    },
    {
      "cell_type": "markdown",
      "metadata": {
        "deletable": false,
        "editable": false,
        "id": "XAM4yLggT5fV",
        "nbgrader": {
          "cell_type": "markdown",
          "checksum": "53b4b7b2ac92a9b5744504b86e0055b8",
          "grade": false,
          "grade_id": "cell-7a6efc30c7a933d7",
          "locked": true,
          "schema_version": 3,
          "solution": false,
          "task": false
        }
      },
      "source": [
        "### Onset strength\n",
        "\n",
        "Onset strength is a measure of the energy within an audio signal at the beginning of a sound. It can be used to identify when a sound begins, as well as how loud or soft that sound may be. Onset strength is typically measured in decibels (dB) or in amplitude (or root mean square). It is a useful tool for analyzing and manipulating audio, such as for creating reverberation effects, adjusting dynamic range, or altering the timing of sounds.\n",
        "\n",
        "The function `librosa.onset.onset_strength()` computes a spectral flux onset strength envelope.\n",
        "\n",
        "A peak-picking function can then be used to find the onsets of each note. The \n",
        "`librosa.onset.onset_detect()` function locates note onset events by picking peaks in the onset strength envelope. The _peak_pick_ parameters were chosen by large-scale hyper-parameter optimization over a dataset."
      ]
    },
    {
      "cell_type": "code",
      "execution_count": null,
      "metadata": {
        "deletable": false,
        "editable": false,
        "id": "qiQZL7mfT5fW",
        "nbgrader": {
          "cell_type": "code",
          "checksum": "417c5a71f1beefa4b959e6977f782949",
          "grade": false,
          "grade_id": "cell-f6751db3809d4510",
          "locked": true,
          "schema_version": 3,
          "solution": false,
          "task": false
        }
      },
      "outputs": [],
      "source": [
        "\n",
        "\n",
        "# Compute the onset strength envelope\n",
        "onset_env = librosa.onset.onset_strength(y=x, sr=fs)\n",
        "\n",
        "# Use peak picking to obtain actual onsets\n",
        "onset_frames = librosa.onset.onset_detect(onset_envelope=onset_env, sr=fs)\n",
        "\n",
        "# Compute and plot the spectrogram\n",
        "D = np.abs(librosa.stft(x))\n",
        "times = librosa.times_like(D)\n",
        "\n",
        "fig, ax = plt.subplots(nrows=3, height_ratios=[3, 1, 1], sharex=True, figsize=(12, 6))\n",
        "librosa.display.specshow(librosa.amplitude_to_db(D, ref=np.max), x_axis='time', ax=ax[0])\n",
        "ax[0].set(title='Power spectrogram')\n",
        "ax[0].label_outer()\n",
        "\n",
        "# Plot the onset envelope\n",
        "ax[1].plot(times, onset_env, alpha=0.8, label='Mean (mel)')\n",
        "\n",
        "# Plot the onsets as vertical lines\n",
        "ax[1].vlines(times[onset_frames], 0, onset_env.max(), color='r', alpha=0.9, linestyle='--', label='Onsets')\n",
        "\n",
        "librosa.display.waveshow(x, sr=fs, ax=ax[2])\n",
        "ax[2].vlines(times[onset_frames], -1, 1, color='r', alpha=0.9, linestyle='--', label='Onsets')\n",
        "\n",
        "plt.tight_layout()\n",
        "plt.show()"
      ]
    },
    {
      "cell_type": "markdown",
      "metadata": {
        "deletable": false,
        "editable": false,
        "id": "nWZl3pW3T5fW",
        "nbgrader": {
          "cell_type": "markdown",
          "checksum": "fa9b3a2c6d333ff2242c6dc7c0b4cb04",
          "grade": false,
          "grade_id": "cell-3a72675bc87d1ec6",
          "locked": true,
          "schema_version": 3,
          "solution": false,
          "task": false
        }
      },
      "source": [
        "### Human annotation\n",
        "\n",
        "A human annotator found the following onset locations."
      ]
    },
    {
      "cell_type": "code",
      "execution_count": null,
      "metadata": {
        "deletable": false,
        "editable": false,
        "id": "vexm2jtUT5fX",
        "nbgrader": {
          "cell_type": "code",
          "checksum": "6f0c0d37d005732a51285d04d68a3793",
          "grade": false,
          "grade_id": "cell-5a417acfcfdd088c",
          "locked": true,
          "schema_version": 3,
          "solution": false,
          "task": false
        }
      },
      "outputs": [],
      "source": [
        "humam_onsets = [0, 0.197047, 0.373982, 0.553917, 0.702099,\n",
        "                0.877512, 1.051384, 1.114890, 1.294825, 1.384577,\n",
        "                1.439750, 1.518568, 1.647638, 1.878505, 2.009869,\n",
        "                2.149115, 2.335652, 2.540256\n",
        "            ]\n",
        "\n",
        "fig, ax = plt.subplots(nrows=2, height_ratios=[3, 1], sharex=True, figsize=(12, 6))\n",
        "librosa.display.specshow(librosa.amplitude_to_db(D, ref=np.max), x_axis='time', ax=ax[0])\n",
        "ax[0].vlines(humam_onsets, 0, 1000, color='w', alpha=0.9, linestyle='--', label='Onsets')\n",
        "\n",
        "librosa.display.waveshow(x, sr=fs, ax=ax[1])\n",
        "ax[1].vlines(humam_onsets, -1, 1, color='r', alpha=0.9, linestyle='--', label='Onsets')\n"
      ]
    },
    {
      "cell_type": "markdown",
      "metadata": {
        "deletable": false,
        "editable": false,
        "id": "N_HMg4SfT5fX",
        "nbgrader": {
          "cell_type": "markdown",
          "checksum": "f4ba902c14b8d97f98456818aa559985",
          "grade": false,
          "grade_id": "cell-827e02ea47931ebc",
          "locked": true,
          "schema_version": 3,
          "solution": false,
          "task": false
        }
      },
      "source": [
        "#### A08 - Onset detection assessment\n",
        "\n",
        "❓Identify the differences between the results of the automatic onset detector and the human reference. What types of errors exist? What metrics should be used to assess the performance of the onset detector?"
      ]
    },
    {
      "cell_type": "markdown",
      "metadata": {
        "deletable": false,
        "id": "YN6LbbtoT5fY",
        "nbgrader": {
          "cell_type": "markdown",
          "checksum": "7d8249a3444d0a48bd889fba6e8def3d",
          "grade": true,
          "grade_id": "cell-f12df1b1100e10b6",
          "locked": false,
          "points": 20,
          "schema_version": 3,
          "solution": true,
          "task": false
        }
      },
      "source": [
        "YOUR ANSWER HERE"
      ]
    },
    {
      "cell_type": "markdown",
      "metadata": {
        "deletable": false,
        "editable": false,
        "id": "g8XauiB6T5fY",
        "nbgrader": {
          "cell_type": "markdown",
          "checksum": "fa0ebd769646c5a67320a6f026486dd8",
          "grade": false,
          "grade_id": "cell-f1078084c253ace5",
          "locked": true,
          "schema_version": 3,
          "solution": false,
          "task": false
        }
      },
      "source": [
        "### Wavetable synthesis\n",
        "\n",
        "Wavetable synthesis is a method for generating a periodic signal by repeated reproduction of a table with the samples of one cycle of the desired waveform.\n",
        "\n",
        "For example, the wavetable $t(n)$ may contain $L$ samples of a single period of the sine function:\n",
        "$$\n",
        "t(n) = \\sin\\left(\\frac{2\\pi}{L}n\\right), 0\\le n \\le L-1\n",
        "$$\n",
        "\n",
        "A periodic signal $s(n)$ can be synthesized by:\n",
        "$$\n",
        "s(n) = t(n\\ \\mathbf{mod}\\ L)\n",
        "$$\n",
        "\n",
        "where $\\mathbf{mod}$ is the modulus operator. This is the same as shifting and concatenating the wavetable:\n",
        "$$\n",
        "s(n) = \\sum_{l=-\\infty}^{+\\infty} t(n-lL)\n",
        "$$\n",
        "\n",
        "With a sampling frequency of $f_s$, this will produce a continuous time signal $s_c(t)$ with frequency $f_s/L$ Hz.\n",
        "\n",
        "To synhthesize a signal with frequency $f$, the wavetable can be re-sampled with the factor $a=L f/f_s$ to produce a periodic signal with the desired frequency:\n",
        "$$\n",
        "s(n) = t(\\lfloor{an}\\rceil\\ \\mathbf{mod}\\ L)\n",
        "$$\n",
        "\n",
        "where $\\lfloor \\cdot \\rceil$ is the round to the nearest integer operator.\n",
        "\n",
        "\n",
        "When $a$ is not an integer, the resulting periodic signal will no be the uniform sampling of a sinusoid. A better approximation can be achieve by interpolation. For example, using linear interpolation:\n",
        "$$\n",
        "s(n) = t(\\lfloor{an}\\rfloor\\ \\mathbf{mod}\\ L) +(an-\\lfloor{an}\\rfloor)\\left[ t(\\lceil{an}\\rceil\\ \\mathbf{mod}\\ L) - t(\\lfloor{an}\\rfloor\\ \\mathbf{mod}\\ L)\\right]\n",
        "$$\n",
        "\n",
        "This can also be computed using a temporary buffer with a signal with a period of L:\n",
        "$$\n",
        "b(n) = \\sum_{l=-\\infty}^{+\\infty} t(n-lL)\n",
        "$$\n",
        "\n",
        "That is then re-sampled to adjust its period to the desired value $N_{0}=aL$:\n",
        "$$\n",
        "s(n) = b(\\lfloor an \\rceil)\n",
        "$$\n",
        "\n",
        "Using linear interpolation:\n",
        "$$\n",
        "s(n) = b(\\lfloor{an}\\rfloor) +(an-\\lfloor{an}\\rfloor)\\left[ b(\\lceil{an}\\rceil) - b(\\lfloor{an}\\rfloor)\\right]\n",
        "$$"
      ]
    },
    {
      "cell_type": "code",
      "execution_count": null,
      "metadata": {
        "deletable": false,
        "editable": false,
        "id": "cYbw1S1HT5fZ",
        "nbgrader": {
          "cell_type": "code",
          "checksum": "acf9606e537f247577650d9aa7bc4555",
          "grade": false,
          "grade_id": "cell-b2293cf6fa7447a1",
          "locked": true,
          "schema_version": 3,
          "solution": false,
          "task": false
        }
      },
      "outputs": [],
      "source": [
        "def wavetable_generate(dur, funct):\n",
        "    \"\"\"\n",
        "    Generate a wavetable of len samples using the specified\n",
        "    function that is assumed to have a period of 2pi\n",
        "    \"\"\"\n",
        "    return funct(2*np.pi*np.arange(dur)/dur)\n",
        "\n",
        "\n",
        "def wavetable_synthesis(wavetable, freq, sr, dur):\n",
        "    \"\"\"\n",
        "    Synthesize a periodic signal using a given wavetable.\n",
        "    The wavetable is assumed to have a period of 2pi.\n",
        "    \"\"\"\n",
        "    # N is the number of samples of the synthesized signal\n",
        "    N = int(dur*sr)\n",
        "    # L is the length of the wavetable\n",
        "    L = wavetable.size\n",
        "    # N0 is the desired period in samples of the synthesized signal\n",
        "    N0 = int(sr/freq+0.5)\n",
        "    # buffer signal of period L with the right number of periods\n",
        "    buffer = np.tile(wavetable,int(np.ceil(N/N0)))\n",
        "    # resample buffer to match the desired period with linear interpolation\n",
        "    # using resampling coefficient a=L/N0\n",
        "    s = np.interp(np.arange(0, buffer.size, L/N0), np.arange(buffer.size), buffer)\n",
        "    return s[:N]\n"
      ]
    },
    {
      "cell_type": "markdown",
      "metadata": {
        "deletable": false,
        "editable": false,
        "id": "JAr_WaC5T5fZ",
        "nbgrader": {
          "cell_type": "markdown",
          "checksum": "8d959452490dad03da3d99d2879880b0",
          "grade": false,
          "grade_id": "cell-262ac4536f9958b5",
          "locked": true,
          "schema_version": 3,
          "solution": false,
          "task": false
        }
      },
      "source": [
        "#### A09 - Generate a 440 Hz sine wave\n",
        "\n",
        "❓Use functions `wavetable_generate()` and `wavetable_synthesis()` to produce a one second 440 Hz pure tone using a wavetable of 64 samples."
      ]
    },
    {
      "cell_type": "code",
      "execution_count": null,
      "metadata": {
        "deletable": false,
        "id": "DGAHkQKtT5fa",
        "nbgrader": {
          "cell_type": "code",
          "checksum": "28c6ca9e5a9f635d43ea5e6cf3c481d6",
          "grade": false,
          "grade_id": "cell-3e203a1b53634e73",
          "locked": false,
          "schema_version": 3,
          "solution": true,
          "task": false
        }
      },
      "outputs": [],
      "source": [
        "fs = 22050\n",
        "# YOUR CODE HERE\n",
        "raise NotImplementedError()\n",
        "plt.plot(wtable, \".\")\n",
        "Audio(swav, rate=fs)"
      ]
    },
    {
      "cell_type": "code",
      "execution_count": null,
      "metadata": {
        "deletable": false,
        "editable": false,
        "id": "Dl4JRYT4T5fa",
        "nbgrader": {
          "cell_type": "code",
          "checksum": "9e6cd847f707e2c46885401741a2a310",
          "grade": true,
          "grade_id": "cell-489598a05951cd54",
          "locked": true,
          "points": 20,
          "schema_version": 3,
          "solution": false,
          "task": false
        }
      },
      "outputs": [],
      "source": [
        "assert np.isclose(len(swav), fs)\n",
        "assert np.isclose(len(wtable), 64)"
      ]
    },
    {
      "cell_type": "markdown",
      "metadata": {
        "deletable": false,
        "editable": false,
        "id": "ecC-DXbMT5fa",
        "nbgrader": {
          "cell_type": "markdown",
          "checksum": "b0c97f988aded384d30600c124cda81e",
          "grade": false,
          "grade_id": "cell-0a8d30c2a7e35de5",
          "locked": true,
          "schema_version": 3,
          "solution": false,
          "task": false
        }
      },
      "source": [
        "### ADSR envelope\n",
        "\n",
        "The envelope of a waveform is one of the sound characteristics that influence the timbre of a sound.  It determines the shape of a waveform and how it changes over time. The envelope is often described in terms of the attack, decay, sustain and release (ADSR) characteristics of a sound. \n",
        "\n",
        "\n",
        "![ADSR model](https://upload.wikimedia.org/wikipedia/commons/thumb/5/58/ADSR_envelope.png/320px-ADSR_envelope.png)\n",
        "\n",
        "The attack is the initial rise in amplitude of a sound or note, the decay is the duration of the gradual decrease in amplitude that follows the attack until it reaches the sustain amplitude, and the release is how fast it fades out after the key is released. Together, these parameters determine how a sound will evolve over time and affect its overall timbre."
      ]
    },
    {
      "cell_type": "code",
      "execution_count": null,
      "metadata": {
        "deletable": false,
        "editable": false,
        "id": "6u7xD7EwT5fa",
        "nbgrader": {
          "cell_type": "code",
          "checksum": "c8084c500b5ff31382ebf2ed4f0fd0bd",
          "grade": false,
          "grade_id": "cell-b067cb2f809100dd",
          "locked": true,
          "schema_version": 3,
          "solution": false,
          "task": false
        }
      },
      "outputs": [],
      "source": [
        "def adsr_envelope(x, attack=0.1, decay=0.2, sustain=0.8, release=0.4, height=1.0):\n",
        "    \"\"\"\n",
        "    Shape a signal with an ADSR envelope.\n",
        "    attack: ratio of the attack phase\n",
        "    decay: ratio of the decay phase\n",
        "    sustain: amplitude ratio of the sustain phase\n",
        "    release: ratio of the release phase\n",
        "    height: amplitude ratio of the whole signal\n",
        "    \"\"\"\n",
        "    shapeA = np.linspace(0, 1, int(attack * len(x)))\n",
        "    shapeD = np.linspace(1, sustain, int(decay * len(x)))\n",
        "    shapeR = np.linspace(sustain, 0, int(release * len(x)))\n",
        "    shapeS = np.ones(len(x)-len(shapeA)-len(shapeD)-len(shapeR)) * sustain\n",
        "    shape = np.concatenate((shapeA, shapeD, shapeS, shapeR))\n",
        "    return x * shape * height\n",
        "\n",
        "\n",
        "fs = 22050\n",
        "duration = 0.2\n",
        "t = np.linspace(0, duration, int(duration*fs))\n",
        "sinew = np.sin(2 * np.pi * 440 * t)\n",
        "shaped_sine = adsr_envelope(sinew)\n",
        "\n",
        "plt.plot(t, shaped_sine)\n",
        "Audio(shaped_sine, rate=fs)"
      ]
    },
    {
      "cell_type": "markdown",
      "metadata": {
        "deletable": false,
        "editable": false,
        "id": "ilQ4sm96T5fb",
        "nbgrader": {
          "cell_type": "markdown",
          "checksum": "e62f819287700c0c93560b2215380cd3",
          "grade": false,
          "grade_id": "cell-37e5d7213c450219",
          "locked": true,
          "schema_version": 3,
          "solution": false,
          "task": false
        }
      },
      "source": [
        "### Musical score and symbolic representations\n",
        "\n",
        "A musical score also referred to as sheet music, is a visual representation of a musical composition. It is written on a staff consisting of five lines and four spaces. This notation is used to indicate the pitch, duration, meter, and rhythm of the music. It also includes symbols such as clefs, key signatures, time signatures, accidentals, and other marks which help in understanding the music. The score includes instructions for how to perform the piece in terms of dynamics, phrasing, and articulation. The musical score is designed to be read by a musician, such as a composer, a conductor, or an instrumentalist.\n",
        "\n",
        "The development of the electronic music industry raised the need for other forms of musical symbolic representation. At the beginning of the 1980s, the Musical Instrument Digital Interface (MIDI) protocol was developed as an industry standard to allow digital electronic musical instruments to work together. MIDI allowed musicians to record, store, and manipulate musical performances and compositions, as well as control multiple instruments and sounds with one device. This opened up a whole new range of possibilities in terms of creating music electronically.\n",
        "\n",
        "We will use a simple format for symbolic representation where each note event is a python list with `(note, amplitude, duration)` and musical composition is a list of note events. The trumpet sequence can thus be represented as a list of lists."
      ]
    },
    {
      "cell_type": "code",
      "execution_count": null,
      "metadata": {
        "deletable": false,
        "editable": false,
        "id": "kQpThhc4T5fb",
        "nbgrader": {
          "cell_type": "code",
          "checksum": "b3b604ce769a3e54b3ab8b0333c74a45",
          "grade": false,
          "grade_id": "cell-94fb6bfbc1c60cfa",
          "locked": true,
          "schema_version": 3,
          "solution": false,
          "task": false
        }
      },
      "outputs": [],
      "source": [
        "trumpet_note_events = (\n",
        "    ('D#5', 0.4, 0.194047),\n",
        "    ('D5' , 0.5, 0.373982-0.194047),\n",
        "    ('C5' , 0.3, 0.553917-0.373982),\n",
        "    ('A#4', 0.7, 0.702099-0.553917),\n",
        "    ('G#4', 0.2, 0.877512-0.702099),\n",
        "    ('A#4', 0.6, 1.051384-0.877512),\n",
        "    ('B4' , 0.6, 1.114890-1.051384),\n",
        "    ('C5' , 0.4, 1.294825-1.114890),\n",
        "    ('C5', 0.05, 1.384577-1.294825),\n",
        "    ('B4' , 0.5, 1.439750-1.384577),\n",
        "    ('A#4', 0.4, 1.518568-1.439750),\n",
        "    ('G#4', 0.3, 1.647638-1.518568),\n",
        "    ('F4', 0.4, 1.878505-1.647638),\n",
        "    ('F4', 0.05, 2.009869-1.878505),\n",
        "    ('A#4', 0.6, 2.149115-2.009869),\n",
        "    ('A#4', 0.1, 2.335652-2.149115),\n",
        "    ('G#4', 0.5, 2.540256-2.335652),\n",
        "    ('F4', 0.4, 3.000000-2.540256))"
      ]
    },
    {
      "cell_type": "markdown",
      "metadata": {
        "deletable": false,
        "editable": false,
        "id": "92YLAT8VT5fc",
        "nbgrader": {
          "cell_type": "markdown",
          "checksum": "f0f8446884b138ca82dc1c7c5f99dd6e",
          "grade": false,
          "grade_id": "cell-f894cdd357f549a3",
          "locked": true,
          "schema_version": 3,
          "solution": false,
          "task": false
        }
      },
      "source": [
        "### Synthesis of a musical composition\n",
        "\n",
        "A music synthesizer can convert a symbolic representation of a musical composition into a sound signal. "
      ]
    },
    {
      "cell_type": "markdown",
      "metadata": {
        "deletable": false,
        "editable": false,
        "id": "rH1OooPUT5fc",
        "nbgrader": {
          "cell_type": "markdown",
          "checksum": "8903d3969b219b4d74578e061dfc2d79",
          "grade": false,
          "grade_id": "cell-148087caf0c8d1bc",
          "locked": true,
          "schema_version": 3,
          "solution": false,
          "task": false
        }
      },
      "source": [
        "#### A10 - Define a function for music synthesis\n",
        "\n",
        "❓Use the functions `wavetable_generate()`, `adsr_envelope()`, `note_frequency()`, and `wavetable_synthesis()` to convert the composition in the list `trumpet_note_events`into a sound signal."
      ]
    },
    {
      "cell_type": "code",
      "execution_count": null,
      "metadata": {
        "deletable": false,
        "id": "mO7fS9xIT5fc",
        "nbgrader": {
          "cell_type": "code",
          "checksum": "a068b129a3bad8fc1c035ce3dba906f9",
          "grade": false,
          "grade_id": "cell-7838490a4472969e",
          "locked": false,
          "schema_version": 3,
          "solution": true,
          "task": false
        }
      },
      "outputs": [],
      "source": [
        "def synthesize_composition(composition, fs):\n",
        "    \"\"\"\n",
        "    Synthesize a sound signal based on a symbolic representation of a\n",
        "    musical composition\n",
        "    \"\"\"\n",
        "    out = np.array([])\n",
        "    # YOUR CODE HERE\n",
        "    raise NotImplementedError()\n",
        "    return out\n",
        "\n",
        "fs = 22050\n",
        "s_out = synthesize_composition(trumpet_note_events, fs)\n",
        "\n",
        "# Plot the output signal\n",
        "fig, ax = plt.subplots(figsize=(12, 4))\n",
        "librosa.display.waveshow(s_out, sr=fs, ax=ax)\n",
        "ax.vlines(humam_onsets, -1, 1, color='r', alpha=0.9, linestyle='--', label='Onsets')\n",
        "\n",
        "# Play the output signal\n",
        "Audio(s_out, rate=fs)"
      ]
    },
    {
      "cell_type": "code",
      "execution_count": null,
      "metadata": {
        "deletable": false,
        "editable": false,
        "id": "h_0zmKw4T5fd",
        "nbgrader": {
          "cell_type": "code",
          "checksum": "d29d30a5a4d28264838a0773483d6395",
          "grade": true,
          "grade_id": "cell-6e3cb931e42498c8",
          "locked": true,
          "points": 30,
          "schema_version": 3,
          "solution": false,
          "task": false
        }
      },
      "outputs": [],
      "source": [
        "assert np.isclose(len(s_out), 3*fs, atol=200)\n",
        "assert np.isclose(np.max(s_out), 0.7, atol=0.05)"
      ]
    }
  ],
  "metadata": {
    "colab": {
      "provenance": []
    },
    "kernelspec": {
      "display_name": "Python 3 (ipykernel)",
      "language": "python",
      "name": "python3"
    },
    "language_info": {
      "codemirror_mode": {
        "name": "ipython",
        "version": 3
      },
      "file_extension": ".py",
      "mimetype": "text/x-python",
      "name": "python",
      "nbconvert_exporter": "python",
      "pygments_lexer": "ipython3",
      "version": "3.10.10"
    },
    "vscode": {
      "interpreter": {
        "hash": "49345cbd358e70c3061d915ca81696aa8f7e07e483518f8ab6512698c1722880"
      }
    }
  },
  "nbformat": 4,
  "nbformat_minor": 0
}
